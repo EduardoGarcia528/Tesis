{
 "cells": [
  {
   "cell_type": "code",
   "execution_count": 28,
   "metadata": {},
   "outputs": [],
   "source": [
    "import matplotlib.pyplot as plt\n",
    "import numpy as np\n",
    "\n",
    "def symbolic_sequence(orbit, num_partitions):\n",
    "\n",
    "    def split_partitions(num_partitions):\n",
    "        symbols = list(range(1, num_partitions + 1))\n",
    "        partitions = []\n",
    "\n",
    "        partition_points = np.linspace(0, 1, num_partitions + 1)\n",
    "\n",
    "        for i in range(num_partitions):\n",
    "            start = partition_points[i]\n",
    "            end = partition_points[i + 1]\n",
    "            symbol = symbols[i]\n",
    "            partitions.append((start, end, symbol))\n",
    "        return partitions\n",
    "\n",
    "\n",
    "    sequence = []\n",
    "    partitions = split_partitions(num_partitions)\n",
    "\n",
    "    for x in orbit:\n",
    "        \n",
    "        # Determinar en qué partición cae x y agregar el símbolo correspondiente\n",
    "        for (start, end, symbol) in partitions:\n",
    "            if start <= x < end:\n",
    "                sequence.append(symbol)\n",
    "                break\n",
    "\n",
    "    return sequence\n",
    "\n"
   ]
  }
 ],
 "metadata": {
  "kernelspec": {
   "display_name": "Python 3",
   "language": "python",
   "name": "python3"
  },
  "language_info": {
   "codemirror_mode": {
    "name": "ipython",
    "version": 3
   },
   "file_extension": ".py",
   "mimetype": "text/x-python",
   "name": "python",
   "nbconvert_exporter": "python",
   "pygments_lexer": "ipython3",
   "version": "3.10.8"
  }
 },
 "nbformat": 4,
 "nbformat_minor": 2
}
