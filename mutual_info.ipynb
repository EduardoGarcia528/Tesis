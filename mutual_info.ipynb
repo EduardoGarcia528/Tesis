{
 "cells": [
  {
   "cell_type": "code",
   "execution_count": 2,
   "metadata": {},
   "outputs": [],
   "source": [
    "#!/usr/bin/env python\n",
    "\"\"\"\n",
    "Script to calculate Mutual Information between two discrete random variables\n",
    "\n",
    "Roberto Maestre - rmaestre@gmail.com\n",
    "Bojan Mihaljevic - boki.mihaljevic@gmail.com\n",
    "\"\"\"\n",
    "from __future__ import division\n",
    "from numpy import array, shape, where, in1d\n",
    "import math\n",
    "import time\n",
    "import nose\n",
    "\n",
    "class InformationTheoryTool:\n",
    "    \n",
    "    def __init__(self, data):\n",
    "        \"\"\"\n",
    "        \"\"\"\n",
    "        # Check if all rows have the same length\n",
    "        assert (len(data.shape) == 2)\n",
    "        # Save data\n",
    "        self.data = data\n",
    "        self.n_rows = data.shape[0]\n",
    "        self.n_cols = data.shape[1]\n",
    "        \n",
    "        \n",
    "    def single_entropy(self, x_index, log_base, debug=False):\n",
    "        \"\"\"\n",
    "        Calculate the entropy of a random variable\n",
    "        \"\"\"\n",
    "        # Check if index are into the bounds\n",
    "        assert (x_index >= 0 and x_index <= self.n_rows)\n",
    "        # Variable to return entropy\n",
    "        summation = 0.0\n",
    "        # Get unique values of random variables\n",
    "        values_x = set(self.data[x_index])\n",
    "        # Print debug info\n",
    "        if debug:\n",
    "            print('Entropy of')\n",
    "            print(self.data[x_index])\n",
    "        # For each random value\n",
    "        for value_x in values_x:\n",
    "            px = shape(where(self.data[x_index] == value_x))[1] / self.n_cols\n",
    "            if px > 0.0:\n",
    "                summation += px * math.log(px, log_base)\n",
    "            if debug:\n",
    "                print(f'({value_x}) px:{px}')\n",
    "        if summation == 0.0:\n",
    "            return summation\n",
    "        else:\n",
    "            return -summation\n",
    "        \n",
    "        \n",
    "    def entropy(self, x_index, y_index, log_base, debug=False):\n",
    "        \"\"\"\n",
    "        Calculate the entropy between two random variables\n",
    "        \"\"\"\n",
    "        assert (x_index >= 0 and x_index <= self.n_rows)\n",
    "        assert (y_index >= 0 and y_index <= self.n_rows)\n",
    "        # Variable to return entropy\n",
    "        summation = 0.0\n",
    "        # Get unique values of random variables\n",
    "        values_x = set(self.data[x_index])\n",
    "        values_y = set(self.data[y_index])\n",
    "        # Print debug info\n",
    "        if debug:\n",
    "            print('Entropy between')\n",
    "            print(self.data[x_index])\n",
    "            print(self.data[y_index])\n",
    "        # For each random value pair\n",
    "        for value_x in values_x:\n",
    "            for value_y in values_y:\n",
    "                pxy = len(where(in1d(where(self.data[x_index] == value_x)[0], \n",
    "                                     where(self.data[y_index] == value_y)[0]) == True)[0]) / self.n_cols\n",
    "                if pxy > 0.0:\n",
    "                    summation += pxy * math.log(pxy, log_base)\n",
    "                if debug:\n",
    "                    print(f'({value_x},{value_y}) pxy:{pxy}')\n",
    "        if summation == 0.0:\n",
    "            return summation\n",
    "        else:\n",
    "            return -summation\n",
    "        \n",
    "        \n",
    "    def mutual_information(self, x_index, y_index, log_base, debug=False):\n",
    "        \"\"\"\n",
    "        Calculate and return Mutual Information between two random variables\n",
    "        \"\"\"\n",
    "        # Check if index are into the bounds\n",
    "        assert (x_index >= 0 and x_index <= self.n_rows)\n",
    "        assert (y_index >= 0 and y_index <= self.n_rows)\n",
    "        # Variable to return MI\n",
    "        summation = 0.0\n",
    "        # Get unique values of random variables\n",
    "        values_x = set(self.data[x_index])\n",
    "        values_y = set(self.data[y_index])\n",
    "        # Print debug info\n",
    "        if debug:\n",
    "            print('MI between')\n",
    "            print(self.data[x_index])\n",
    "            print(self.data[y_index])\n",
    "        # For each random value pair\n",
    "        for value_x in values_x:\n",
    "            for value_y in values_y:\n",
    "                px = shape(where(self.data[x_index] == value_x))[1] / self.n_cols\n",
    "                py = shape(where(self.data[y_index] == value_y))[1] / self.n_cols\n",
    "                pxy = len(where(in1d(where(self.data[x_index] == value_x)[0], \n",
    "                                     where(self.data[y_index] == value_y)[0]) == True)[0]) / self.n_cols\n",
    "                if pxy > 0.0:\n",
    "                    summation += pxy * math.log((pxy / (px * py)), log_base)\n",
    "                if debug:\n",
    "                    print(f'({value_x},{value_y}) px:{px} py:{py} pxy:{pxy}')\n",
    "        return summation\n"
   ]
  },
  {
   "cell_type": "code",
   "execution_count": 20,
   "metadata": {},
   "outputs": [
    {
     "name": "stdout",
     "output_type": "stream",
     "text": [
      "[0.85987784 0.91307707 0.62343031 ... 1.5029352  1.34206833 0.89027644]\n",
      "(2, 2677)\n",
      "Información mutua entre X e Y: 11.3503\n"
     ]
    }
   ],
   "source": [
    "import numpy as np\n",
    "\n",
    "Js = np.load('J_composers_global.npy')\n",
    "xi = np.load('xi_index_global.npy')\n",
    "print(xi)\n",
    "# Define tus datos en forma de array\n",
    "data = np.array([\n",
    "    np.load('xi_index_global.npy'),  # Variable X\n",
    "    np.load('J_composers_lineal_global.npy')   # Variable Y\n",
    "])\n",
    "print(np.shape(data))\n",
    "# np.load('J_composers_lineal_global')\n",
    "# np.load('J_composers_hermite_global')\n",
    "\n",
    "\n",
    "# Crear el objeto InformationTheoryTool\n",
    "it_tool = InformationTheoryTool(data)\n",
    "\n",
    "# Calcular la información mutua entre X (fila 0) e Y (fila 1)\n",
    "mi = it_tool.mutual_information(0, 1, 2)  # Base 2 para bits\n",
    "print(f\"Información mutua entre X e Y: {mi:.4f}\")\n"
   ]
  },
  {
   "cell_type": "code",
   "execution_count": 13,
   "metadata": {},
   "outputs": [],
   "source": [
    "def generar_uniforme_centrada(n, varianza):\n",
    "    # Calcular el límite superior e inferior de la distribución uniforme\n",
    "    limite = np.sqrt(varianza)\n",
    "    # Generar n números aleatorios con distribución uniforme entre -limite y limite\n",
    "    return np.random.uniform(-limite, limite, n)"
   ]
  },
  {
   "cell_type": "code",
   "execution_count": 14,
   "metadata": {},
   "outputs": [
    {
     "name": "stdout",
     "output_type": "stream",
     "text": [
      "Información mutua entre X e Y: 11.3864\n"
     ]
    }
   ],
   "source": [
    "import numpy as np\n",
    "data2 = np.array([\n",
    "    generar_uniforme_centrada(2677, 1e-6),  # Variable X\n",
    "    generar_uniforme_centrada(2677, 1e-6)   # Variable Y\n",
    "])\n",
    "# print(np.shape(data))\n",
    "# np.load('J_composers_lineal_global')\n",
    "# np.load('J_composers_hermite_global')\n",
    "\n",
    "\n",
    "# Crear el objeto InformationTheoryTool\n",
    "it_tool2 = InformationTheoryTool(data2)\n",
    "\n",
    "# Calcular la información mutua entre X (fila 0) e Y (fila 1)\n",
    "mi2 = it_tool2.mutual_information(0, 1, 2)  # Base 2 para bits\n",
    "print(f\"Información mutua entre X e Y: {mi2:.4f}\")"
   ]
  },
  {
   "cell_type": "code",
   "execution_count": 15,
   "metadata": {},
   "outputs": [],
   "source": [
    "import numpy as np\n",
    "\n",
    "def mutual_information(X, Y):\n",
    "    \"\"\"\n",
    "    Calcula la información mutua discreta entre dos variables aleatorias X e Y.\n",
    "\n",
    "    Parámetros:\n",
    "        X (array-like): Variable aleatoria discreta 1.\n",
    "        Y (array-like): Variable aleatoria discreta 2.\n",
    "\n",
    "    Retorna:\n",
    "        float: Información mutua entre X e Y.\n",
    "    \"\"\"\n",
    "    # Asegurarse de que X e Y sean numpy arrays\n",
    "    X = np.asarray(X)\n",
    "    Y = np.asarray(Y)\n",
    "    \n",
    "    # Obtener los valores únicos y sus conteos para las distribuciones marginales\n",
    "    unique_x, counts_x = np.unique(X, return_counts=True)\n",
    "    unique_y, counts_y = np.unique(Y, return_counts=True)\n",
    "    \n",
    "    # Calcular las probabilidades marginales\n",
    "    p_x = counts_x / len(X)\n",
    "    p_y = counts_y / len(Y)\n",
    "    \n",
    "    # Crear una matriz conjunta\n",
    "    joint_counts = np.zeros((len(unique_x), len(unique_y)))\n",
    "    \n",
    "    for i, x_val in enumerate(unique_x):\n",
    "        for j, y_val in enumerate(unique_y):\n",
    "            joint_counts[i, j] = np.sum((X == x_val) & (Y == y_val))\n",
    "    \n",
    "    # Convertir los conteos conjuntos a probabilidades\n",
    "    p_xy = joint_counts / len(X)\n",
    "    \n",
    "    # Calcular la información mutua\n",
    "    mi = 0\n",
    "    for i in range(len(unique_x)):\n",
    "        for j in range(len(unique_y)):\n",
    "            if p_xy[i, j] > 0:  # Evitar log(0)\n",
    "                mi += p_xy[i, j] * np.log(p_xy[i, j] / (p_x[i] * p_y[j]))\n",
    "    \n",
    "    return mi\n"
   ]
  },
  {
   "cell_type": "code",
   "execution_count": 16,
   "metadata": {},
   "outputs": [
    {
     "data": {
      "text/plain": [
       "7.892452043520675"
      ]
     },
     "execution_count": 16,
     "metadata": {},
     "output_type": "execute_result"
    }
   ],
   "source": [
    "mutual_information(data2[0,:], data2[1,:])"
   ]
  },
  {
   "cell_type": "code",
   "execution_count": 18,
   "metadata": {},
   "outputs": [
    {
     "data": {
      "text/plain": [
       "7.867399605165235"
      ]
     },
     "execution_count": 18,
     "metadata": {},
     "output_type": "execute_result"
    }
   ],
   "source": [
    "Js = np.load('J_composers_global.npy')\n",
    "xi = np.load('xi_index_global.npy')\n",
    "mutual_information(Js, xi)"
   ]
  },
  {
   "cell_type": "code",
   "execution_count": 20,
   "metadata": {},
   "outputs": [
    {
     "data": {
      "text/plain": [
       "[<matplotlib.lines.Line2D at 0x2c69c9fec20>]"
      ]
     },
     "execution_count": 20,
     "metadata": {},
     "output_type": "execute_result"
    },
    {
     "data": {
      "image/png": "[encoded data removed]",
      "text/plain": [
       "<Figure size 640x480 with 1 Axes>"
      ]
     },
     "metadata": {},
     "output_type": "display_data"
    }
   ],
   "source": [
    "import matplotlib.pyplot as plt\n",
    "plt.plot(Js, xi, '.')"
   ]
  }
 ],
 "metadata": {
  "kernelspec": {
   "display_name": "Python 3",
   "language": "python",
   "name": "python3"
  },
  "language_info": {
   "codemirror_mode": {
    "name": "ipython",
    "version": 3
   },
   "file_extension": ".py",
   "mimetype": "text/x-python",
   "name": "python",
   "nbconvert_exporter": "python",
   "pygments_lexer": "ipython3",
   "version": "3.10.8"
  }
 },
 "nbformat": 4,
 "nbformat_minor": 2
}
